{
  "nbformat": 4,
  "nbformat_minor": 0,
  "metadata": {
    "colab": {
      "provenance": [],
      "collapsed_sections": [],
      "include_colab_link": true
    },
    "kernelspec": {
      "name": "python3",
      "display_name": "Python 3"
    }
  },
  "cells": [
    {
      "cell_type": "markdown",
      "metadata": {
        "id": "view-in-github",
        "colab_type": "text"
      },
      "source": [
        "<a href=\"https://colab.research.google.com/github/roni762583/Veloquant_Test/blob/main/Copy_of_vq.ipynb\" target=\"_parent\"><img src=\"https://colab.research.google.com/assets/colab-badge.svg\" alt=\"Open In Colab\"/></a>"
      ]
    },
    {
      "cell_type": "code",
      "metadata": {
        "id": "D1J15Vh_1Jih",
        "colab": {
          "base_uri": "https://localhost:8080/"
        },
        "outputId": "b3a9fe82-2aba-4b0a-b887-6fe496176de4"
      },
      "source": [
        "!pip install tf-nightly\n",
        "#-2.0-preview\n"
      ],
      "execution_count": null,
      "outputs": [
        {
          "output_type": "stream",
          "text": [
            "Collecting tf-nightly\n",
            "\u001b[?25l  Downloading https://files.pythonhosted.org/packages/f8/e2/a63667b5ad66baae3bc6979f75d82f258871868f03b1eba937a6e206b83e/tf_nightly-2.5.0.dev20210114-cp36-cp36m-manylinux2010_x86_64.whl (400.1MB)\n",
            "\u001b[K     |████████████████████████████████| 400.1MB 42kB/s \n",
            "\u001b[?25hRequirement already satisfied: numpy~=1.19.2 in /usr/local/lib/python3.6/dist-packages (from tf-nightly) (1.19.5)\n",
            "Requirement already satisfied: typing-extensions~=3.7.4 in /usr/local/lib/python3.6/dist-packages (from tf-nightly) (3.7.4.3)\n",
            "Requirement already satisfied: absl-py~=0.10 in /usr/local/lib/python3.6/dist-packages (from tf-nightly) (0.10.0)\n",
            "Collecting gast==0.4.0\n",
            "  Downloading https://files.pythonhosted.org/packages/b6/48/583c032b79ae5b3daa02225a675aeb673e58d2cb698e78510feceb11958c/gast-0.4.0-py3-none-any.whl\n",
            "Collecting grpcio~=1.34.0\n",
            "\u001b[?25l  Downloading https://files.pythonhosted.org/packages/ab/f5/3d3bcb82beae990021cbf6877456a1aab650e68c902194566edd6a73e37c/grpcio-1.34.1-cp36-cp36m-manylinux2014_x86_64.whl (4.0MB)\n",
            "\u001b[K     |████████████████████████████████| 4.0MB 53.5MB/s \n",
            "\u001b[?25hCollecting tf-estimator-nightly~=2.5.0.dev\n",
            "\u001b[?25l  Downloading https://files.pythonhosted.org/packages/f1/81/4fd49a11eea4ad6ea1d8038d8271bf7d5dd1b26b4cad286067ac6be6990c/tf_estimator_nightly-2.5.0.dev2021011601-py2.py3-none-any.whl (462kB)\n",
            "\u001b[K     |████████████████████████████████| 471kB 43.7MB/s \n",
            "\u001b[?25hRequirement already satisfied: wrapt~=1.12.1 in /usr/local/lib/python3.6/dist-packages (from tf-nightly) (1.12.1)\n",
            "Requirement already satisfied: protobuf>=3.9.2 in /usr/local/lib/python3.6/dist-packages (from tf-nightly) (3.12.4)\n",
            "Requirement already satisfied: wheel~=0.35 in /usr/local/lib/python3.6/dist-packages (from tf-nightly) (0.36.2)\n",
            "Collecting tb-nightly~=2.5.0.a\n",
            "\u001b[?25l  Downloading https://files.pythonhosted.org/packages/16/79/8aafd4e4a6a60c7ce76346c3e32ce99c4b4f0e9974c8656848bafe902e7a/tb_nightly-2.5.0a20210116-py3-none-any.whl (12.2MB)\n",
            "\u001b[K     |████████████████████████████████| 12.2MB 42.0MB/s \n",
            "\u001b[?25hRequirement already satisfied: google-pasta~=0.2 in /usr/local/lib/python3.6/dist-packages (from tf-nightly) (0.2.0)\n",
            "Requirement already satisfied: opt-einsum~=3.3.0 in /usr/local/lib/python3.6/dist-packages (from tf-nightly) (3.3.0)\n",
            "Requirement already satisfied: flatbuffers~=1.12.0 in /usr/local/lib/python3.6/dist-packages (from tf-nightly) (1.12)\n",
            "Collecting h5py~=3.1.0\n",
            "\u001b[?25l  Downloading https://files.pythonhosted.org/packages/70/7a/e53e500335afb6b1aade11227cdf107fca54106a1dca5c9d13242a043f3b/h5py-3.1.0-cp36-cp36m-manylinux1_x86_64.whl (4.0MB)\n",
            "\u001b[K     |████████████████████████████████| 4.0MB 34.9MB/s \n",
            "\u001b[?25hRequirement already satisfied: keras-preprocessing~=1.1.2 in /usr/local/lib/python3.6/dist-packages (from tf-nightly) (1.1.2)\n",
            "Requirement already satisfied: six~=1.15.0 in /usr/local/lib/python3.6/dist-packages (from tf-nightly) (1.15.0)\n",
            "Requirement already satisfied: astunparse~=1.6.3 in /usr/local/lib/python3.6/dist-packages (from tf-nightly) (1.6.3)\n",
            "Requirement already satisfied: termcolor~=1.1.0 in /usr/local/lib/python3.6/dist-packages (from tf-nightly) (1.1.0)\n",
            "Requirement already satisfied: setuptools in /usr/local/lib/python3.6/dist-packages (from protobuf>=3.9.2->tf-nightly) (51.1.1)\n",
            "Requirement already satisfied: werkzeug>=0.11.15 in /usr/local/lib/python3.6/dist-packages (from tb-nightly~=2.5.0.a->tf-nightly) (1.0.1)\n",
            "Requirement already satisfied: requests<3,>=2.21.0 in /usr/local/lib/python3.6/dist-packages (from tb-nightly~=2.5.0.a->tf-nightly) (2.23.0)\n",
            "Requirement already satisfied: google-auth<2,>=1.6.3 in /usr/local/lib/python3.6/dist-packages (from tb-nightly~=2.5.0.a->tf-nightly) (1.17.2)\n",
            "Requirement already satisfied: tensorboard-plugin-wit>=1.6.0 in /usr/local/lib/python3.6/dist-packages (from tb-nightly~=2.5.0.a->tf-nightly) (1.7.0)\n",
            "Requirement already satisfied: google-auth-oauthlib<0.5,>=0.4.1 in /usr/local/lib/python3.6/dist-packages (from tb-nightly~=2.5.0.a->tf-nightly) (0.4.2)\n",
            "Requirement already satisfied: markdown>=2.6.8 in /usr/local/lib/python3.6/dist-packages (from tb-nightly~=2.5.0.a->tf-nightly) (3.3.3)\n",
            "Collecting cached-property; python_version < \"3.8\"\n",
            "  Downloading https://files.pythonhosted.org/packages/48/19/f2090f7dad41e225c7f2326e4cfe6fff49e57dedb5b53636c9551f86b069/cached_property-1.5.2-py2.py3-none-any.whl\n",
            "Requirement already satisfied: idna<3,>=2.5 in /usr/local/lib/python3.6/dist-packages (from requests<3,>=2.21.0->tb-nightly~=2.5.0.a->tf-nightly) (2.10)\n",
            "Requirement already satisfied: certifi>=2017.4.17 in /usr/local/lib/python3.6/dist-packages (from requests<3,>=2.21.0->tb-nightly~=2.5.0.a->tf-nightly) (2020.12.5)\n",
            "Requirement already satisfied: chardet<4,>=3.0.2 in /usr/local/lib/python3.6/dist-packages (from requests<3,>=2.21.0->tb-nightly~=2.5.0.a->tf-nightly) (3.0.4)\n",
            "Requirement already satisfied: urllib3!=1.25.0,!=1.25.1,<1.26,>=1.21.1 in /usr/local/lib/python3.6/dist-packages (from requests<3,>=2.21.0->tb-nightly~=2.5.0.a->tf-nightly) (1.24.3)\n",
            "Requirement already satisfied: cachetools<5.0,>=2.0.0 in /usr/local/lib/python3.6/dist-packages (from google-auth<2,>=1.6.3->tb-nightly~=2.5.0.a->tf-nightly) (4.2.0)\n",
            "Requirement already satisfied: rsa<5,>=3.1.4; python_version >= \"3\" in /usr/local/lib/python3.6/dist-packages (from google-auth<2,>=1.6.3->tb-nightly~=2.5.0.a->tf-nightly) (4.6)\n",
            "Requirement already satisfied: pyasn1-modules>=0.2.1 in /usr/local/lib/python3.6/dist-packages (from google-auth<2,>=1.6.3->tb-nightly~=2.5.0.a->tf-nightly) (0.2.8)\n",
            "Requirement already satisfied: requests-oauthlib>=0.7.0 in /usr/local/lib/python3.6/dist-packages (from google-auth-oauthlib<0.5,>=0.4.1->tb-nightly~=2.5.0.a->tf-nightly) (1.3.0)\n",
            "Requirement already satisfied: importlib-metadata; python_version < \"3.8\" in /usr/local/lib/python3.6/dist-packages (from markdown>=2.6.8->tb-nightly~=2.5.0.a->tf-nightly) (3.3.0)\n",
            "Requirement already satisfied: pyasn1>=0.1.3 in /usr/local/lib/python3.6/dist-packages (from rsa<5,>=3.1.4; python_version >= \"3\"->google-auth<2,>=1.6.3->tb-nightly~=2.5.0.a->tf-nightly) (0.4.8)\n",
            "Requirement already satisfied: oauthlib>=3.0.0 in /usr/local/lib/python3.6/dist-packages (from requests-oauthlib>=0.7.0->google-auth-oauthlib<0.5,>=0.4.1->tb-nightly~=2.5.0.a->tf-nightly) (3.1.0)\n",
            "Requirement already satisfied: zipp>=0.5 in /usr/local/lib/python3.6/dist-packages (from importlib-metadata; python_version < \"3.8\"->markdown>=2.6.8->tb-nightly~=2.5.0.a->tf-nightly) (3.4.0)\n",
            "\u001b[31mERROR: tensorflow 2.4.0 has requirement gast==0.3.3, but you'll have gast 0.4.0 which is incompatible.\u001b[0m\n",
            "\u001b[31mERROR: tensorflow 2.4.0 has requirement grpcio~=1.32.0, but you'll have grpcio 1.34.1 which is incompatible.\u001b[0m\n",
            "\u001b[31mERROR: tensorflow 2.4.0 has requirement h5py~=2.10.0, but you'll have h5py 3.1.0 which is incompatible.\u001b[0m\n",
            "Installing collected packages: gast, grpcio, tf-estimator-nightly, tb-nightly, cached-property, h5py, tf-nightly\n",
            "  Found existing installation: gast 0.3.3\n",
            "    Uninstalling gast-0.3.3:\n",
            "      Successfully uninstalled gast-0.3.3\n",
            "  Found existing installation: grpcio 1.32.0\n",
            "    Uninstalling grpcio-1.32.0:\n",
            "      Successfully uninstalled grpcio-1.32.0\n",
            "  Found existing installation: h5py 2.10.0\n",
            "    Uninstalling h5py-2.10.0:\n",
            "      Successfully uninstalled h5py-2.10.0\n",
            "Successfully installed cached-property-1.5.2 gast-0.4.0 grpcio-1.34.1 h5py-3.1.0 tb-nightly-2.5.0a20210116 tf-estimator-nightly-2.5.0.dev2021011601 tf-nightly-2.5.0.dev20210114\n"
          ],
          "name": "stdout"
        }
      ]
    },
    {
      "cell_type": "code",
      "metadata": {
        "id": "BOjujz601HcS",
        "colab": {
          "base_uri": "https://localhost:8080/",
          "height": 34
        },
        "outputId": "869ad192-a731-4f36-b11f-3fbe4f3316b3"
      },
      "source": [
        "import tensorflow as tf\n",
        "import numpy as np\n",
        "import matplotlib.pyplot as plt\n",
        "import pandas as pd\n",
        "import math\n",
        "print(tf.__version__)"
      ],
      "execution_count": null,
      "outputs": [
        {
          "output_type": "stream",
          "text": [
            "2.2.0\n"
          ],
          "name": "stdout"
        }
      ]
    },
    {
      "cell_type": "markdown",
      "metadata": {
        "id": "F3TKovyRC-gU"
      },
      "source": [
        "LOAD DATA - Ref: https://medium.com/@yuraist/how-to-upload-your-own-dataset-into-google-colab-e228727c87e9"
      ]
    },
    {
      "cell_type": "code",
      "metadata": {
        "id": "nhfJX_ApDEeu"
      },
      "source": [
        "#clone data\n",
        "! git clone https://github.com/roni762583/CandlesData.git"
      ],
      "execution_count": null,
      "outputs": []
    },
    {
      "cell_type": "code",
      "metadata": {
        "id": "iqF91WwizCrK",
        "colab": {
          "base_uri": "https://localhost:8080/",
          "height": 364
        },
        "outputId": "235716c5-1a2f-4c9f-e5aa-e37fc86fbb37"
      },
      "source": [
        "###################### GRAPH THE DATA TO EXPLORE #######################\n",
        "# Build dataframe to graph closing prices, delta, log of delta\n",
        "graphingDF = pd.DataFrame() #final DF\n",
        "concatCloseDF = pd.DataFrame()\n",
        "#loop over data files by instrument and day to form dataframe\n",
        "days = range(3,7) # days of month: 3 - 6 inclusive (4-days)\n",
        "instruments = range(1,7) # 6 instruments (6th is target)\n",
        "for inst in instruments:\n",
        "    #gdf add column for each inst. close \n",
        "    colStr = 'c'+ str(inst)\n",
        "    for day in days:\n",
        "        #build data file name pattern\n",
        "        fileName = \"INST\"+str(inst)+\"_2018-12-0\"+str(day)+\".csv\"\n",
        "        \n",
        "        fileDF = pd.read_csv(\"CandlesData/\"+fileName)\n",
        "\n",
        "        #add date-time column as index ...below\n",
        "        date = \"2018-12-0\"+str(day)+\" \"  #str w/ space\n",
        "        hour = (np.floor(fileDF['Seconds']/3600)).astype(int) #clean decimals\n",
        "        minute = (np.floor(fileDF['Seconds']/60 - hour*60)).astype(int)\n",
        "        sec = fileDF['Seconds'] - hour*3600 - minute*60\n",
        "\n",
        "        #shift hour to market open 9:00am (assumption for my convinience)\n",
        "        hour  = hour + 9\n",
        "        \n",
        "        #get leading zero when input one digit long\n",
        "        def getLeadingZero(x):\n",
        "            return np.where(len(str(x)) < 2, '0', '')\n",
        "\n",
        "        #clean up seconds\n",
        "        secLeadingZero = sec.apply(getLeadingZero)#get leading zero series\n",
        "        cleanSec = secLeadingZero + sec.astype(str)  #add leading zero series\n",
        "        #clean up minutes\n",
        "        minLeadingZero = minute.apply(getLeadingZero) #like above\n",
        "        cleanMinute =  minLeadingZero + minute.astype(str) #add leading zero series\n",
        "        #clean up hour\n",
        "        hrLeadingZero = hour.apply(getLeadingZero)\n",
        "        cleanHour = hrLeadingZero + hour.astype(str)\n",
        "        #build date string for pandas datetime obj as index\n",
        "        dateString = date + cleanHour + \":\" + cleanMinute +  \":\" + cleanSec \n",
        "        \n",
        "        from datetime import datetime\n",
        "        #add dateTime col to fileDF\n",
        "        fileDF['dateTime'] = pd.to_datetime(dateString)\n",
        "\n",
        "        #set dateTime col as index and sort\n",
        "        fileDF.set_index('dateTime', inplace=True)\n",
        "        fileDF = fileDF.sort_index()\n",
        "        #\n",
        "        if(len(concatCloseDF)<1):\n",
        "            concatCloseDF = fileDF[['Close']].copy()\n",
        "        else:\n",
        "            concatCloseDF = pd.concat([concatCloseDF, fileDF[['Close']].copy()])\n",
        "        #print(concatCloseDF.shape)\n",
        "    #inst for loop indent here\n",
        "    #if this is first column added to DF, copy from fileDF including index    \n",
        "    if(len(graphingDF.columns)<1):\n",
        "        #print('.')\n",
        "        #print(concatCloseDF)\n",
        "        graphingDF['Close'] = concatCloseDF['Close'].copy()\n",
        "        #print('^')\n",
        "        #remane to match others\n",
        "        #graphingDF.rename(columns={'Close': 'Close1'}, inplace=True)\n",
        "    #otherwise left join on index\n",
        "    else:\n",
        "        print('processing instrument '+str(inst)+' ...')\n",
        "        graphingDF = graphingDF.join(concatCloseDF, rsuffix=str(inst))\n",
        "\n",
        "    #clear temp queue between instruments    \n",
        "    concatCloseDF = pd.DataFrame()\n",
        "\n",
        "#rename col. 'Close' to 'Close1'\n",
        "graphingDF.rename(columns={'Close': 'Close1'}, inplace=True)\n",
        "graphingDF\n",
        "\n",
        "def normalize_data(df):\n",
        "  #normalize price by dividing by first value\n",
        "  return df/df.iloc[0,:]\n",
        "\n",
        "#graph the data\n",
        "normalize_data(graphingDF).plot()\n",
        "plt.show()"
      ],
      "execution_count": null,
      "outputs": [
        {
          "output_type": "stream",
          "text": [
            "processing instrument 2 ...\n",
            "processing instrument 3 ...\n",
            "processing instrument 4 ...\n",
            "processing instrument 5 ...\n",
            "processing instrument 6 ...\n"
          ],
          "name": "stdout"
        },
        {
          "output_type": "display_data",
          "data": {
            "image/png": "[encoded data removed]",
            "text/plain": [
              "<Figure size 432x288 with 1 Axes>"
            ]
          },
          "metadata": {
            "tags": [],
            "needs_background": "light"
          }
        }
      ]
    },
    {
      "cell_type": "code",
      "metadata": {
        "id": "7J_-V97vBQT-",
        "colab": {
          "base_uri": "https://localhost:8080/",
          "height": 281
        },
        "outputId": "d909a06b-7e75-4894-af82-e7db21cee279"
      },
      "source": [
        "#Histograms\n",
        "normalize_data(graphingDF).hist()\n",
        "plt.show()"
      ],
      "execution_count": null,
      "outputs": [
        {
          "output_type": "display_data",
          "data": {
            "image/png": "[encoded data removed]",
            "text/plain": [
              "<Figure size 432x288 with 6 Axes>"
            ]
          },
          "metadata": {
            "tags": [],
            "needs_background": "light"
          }
        }
      ]
    },
    {
      "cell_type": "code",
      "metadata": {
        "id": "vubiyPKzBzfn",
        "colab": {
          "base_uri": "https://localhost:8080/",
          "height": 265
        },
        "outputId": "40fd45b0-042a-4058-a677-52eb25249d35"
      },
      "source": [
        "# Univariate Density Plots\n",
        "normalize_data(graphingDF).plot(kind='density', subplots=True, layout=(3,2), sharex=False)\n",
        "plt.show()"
      ],
      "execution_count": null,
      "outputs": [
        {
          "output_type": "display_data",
          "data": {
            "image/png": "[encoded data removed]",
            "text/plain": [
              "<Figure size 432x288 with 6 Axes>"
            ]
          },
          "metadata": {
            "tags": [],
            "needs_background": "light"
          }
        }
      ]
    },
    {
      "cell_type": "code",
      "metadata": {
        "id": "uqxH3cY_DEVF",
        "colab": {
          "base_uri": "https://localhost:8080/",
          "height": 265
        },
        "outputId": "eb00f912-05eb-4ae6-b447-67600e6f6243"
      },
      "source": [
        "#Wiskers\n",
        "graphingDF.plot(kind='box', subplots=True, layout=(2,3), sharex=False, sharey=False)\n",
        "plt.show()"
      ],
      "execution_count": null,
      "outputs": [
        {
          "output_type": "display_data",
          "data": {
            "image/png": "[encoded data removed]",
            "text/plain": [
              "<Figure size 432x288 with 6 Axes>"
            ]
          },
          "metadata": {
            "tags": []
          }
        }
      ]
    },
    {
      "cell_type": "code",
      "metadata": {
        "id": "mpcujib0BmHJ",
        "colab": {
          "base_uri": "https://localhost:8080/",
          "height": 271
        },
        "outputId": "fcfb90a4-57ba-4b96-e1d5-8ac85bc1206b"
      },
      "source": [
        "# Correction Matrix Plot\n",
        "correlations = graphingDF.corr()\n",
        "# plot correlation matrix\n",
        "fig = plt.figure()\n",
        "ax = fig.add_subplot(111)\n",
        "cax = ax.matshow(correlations, vmin=-1, vmax=1)\n",
        "fig.colorbar(cax)\n",
        "ticks = np.arange(0,9,1)\n",
        "names = graphingDF.columns\n",
        "ax.set_xticks(ticks)\n",
        "ax.set_yticks(ticks)\n",
        "ax.set_xticklabels(names)\n",
        "ax.set_yticklabels(names)\n",
        "plt.show()\n",
        "\n",
        "#Shows instruments 2 and 3 have strongest (negative) correlation"
      ],
      "execution_count": null,
      "outputs": [
        {
          "output_type": "display_data",
          "data": {
            "image/png": "[encoded data removed]",
            "text/plain": [
              "<Figure size 432x288 with 2 Axes>"
            ]
          },
          "metadata": {
            "tags": []
          }
        }
      ]
    },
    {
      "cell_type": "code",
      "metadata": {
        "id": "HsRCtYoxQVX8",
        "colab": {
          "base_uri": "https://localhost:8080/",
          "height": 419
        },
        "outputId": "f8cf358f-46d7-4380-a52b-23fd92a2b06f"
      },
      "source": [
        "############ BUILD DATAFRAME FOR MACHINE LEARNING #############\n",
        "#Load data and build dataframe\n",
        "trainingDataFrame = pd.DataFrame()\n",
        "\n",
        "#loop over data files by instrument and day to form dataframe\n",
        "days = range(3,7) # days of month: 3 - 6 inclusive (4-days)\n",
        "instruments = range(1,7) # 6 instruments (6th is target)\n",
        "for inst in instruments:\n",
        "   \n",
        "    colStr = 'c'+ str(inst)\n",
        "\n",
        "    for day in days:\n",
        "        #build data file name pattern\n",
        "        fileName = \"INST\"+str(inst)+\"_2018-12-0\"+str(day)+\".csv\"\n",
        "        \n",
        "        df = pd.read_csv(\"CandlesData/\"+fileName)\n",
        "\n",
        "        #add date-time column as index ...below\n",
        "        date = \"2018-12-0\"+str(day)+\" \"  #str w/ space\n",
        "        hour = (np.floor(df['Seconds']/3600)).astype(int) #clean decimals\n",
        "        minute = (np.floor(df['Seconds']/60 - hour*60)).astype(int)\n",
        "        sec = df['Seconds'] - hour*3600 - minute*60\n",
        "\n",
        "        #shift hour to market open 9:00am (assumption for my convinience)\n",
        "        hour  = hour + 9\n",
        "        \n",
        "        #get leading zero when input one digit long\n",
        "        def getLeadingZero(x):\n",
        "            return np.where(len(str(x)) < 2, '0', '')\n",
        "\n",
        "        #clean up seconds\n",
        "        secLeadingZero = sec.apply(getLeadingZero)#get leading zero series\n",
        "        cleanSec = secLeadingZero + sec.astype(str)  #add leading zero series\n",
        "        #clean up minutes\n",
        "        minLeadingZero = minute.apply(getLeadingZero) #like above\n",
        "        cleanMinute =  minLeadingZero + minute.astype(str) #add leading zero series\n",
        "        #clean up hour\n",
        "        hrLeadingZero = hour.apply(getLeadingZero)\n",
        "        cleanHour = hrLeadingZero + hour.astype(str)\n",
        "        #build date string for pandas datetime obj as index\n",
        "        dateString = date + cleanHour + \":\" + cleanMinute +  \":\" + cleanSec \n",
        "        \n",
        "        from datetime import datetime\n",
        "        df['dateTime'] = pd.to_datetime(dateString)#, format='%Y-%m-%d %H:%M:%S', errors='coerce', infer_datetime_format=True)\n",
        "        \n",
        "        #additional columns for training dataset: instrument, and cols for one-hot encoding\n",
        "        cols = ['instrument','INST1','INST2','INST3','INST4','INST5','INST6'] #separate out INST6 as target\n",
        "\n",
        "        #returns 0, 1 for one hot encoding, comparing index loop to col#\n",
        "        def getOneHot(instStr, colName):\n",
        "            s1 = colName[-1:] #take last char from colName i.e. digit\n",
        "            s2 = instStr #inst str from loop index\n",
        "            #print(s1+\" \"+s2)\n",
        "            return np.where(s1 == s2, 1, 0)\n",
        "\n",
        "        for col in cols:\n",
        "            #for new col in list, populate col with 1's to indicate instrument else, zero for one hot encoding\n",
        "            if(col!='instrument'):\n",
        "                df[col] = getOneHot(str(inst),col)\n",
        "            elif(col=='instrument'): #this column should aid in graphing\n",
        "                df[col] = inst\n",
        "\n",
        "        #rearrange column order\n",
        "        cols = df.columns.tolist()\n",
        "        cols = cols[-8:] + cols[:-8] #put last 7 cols in front\n",
        "        df = df[cols] #assign reorder\n",
        "        #print('file: '+fileName+' loaded; dataframe rows are: ' + str(len(df))) #six files have an extra second\n",
        "        #if len(df)>28800:\n",
        "            #print(df.tail())\n",
        "        trainingDataFrame = pd.concat([trainingDataFrame, df])\n",
        "\n",
        "trainingDataFrame = trainingDataFrame.sort_index()\n",
        "#trainingDataFrame.info()\n",
        "#print('Total trainingDataFrame rows: '+ str(len(trainingDataFrame))) #691206\n",
        "#print('number of columns: '+str(len(trainingDataFrame.columns)))\n",
        "#print('shape: ')\n",
        "#trainingDataFrame.shape\n",
        "#print('size')\n",
        "#trainingDataFrame.size\n",
        "#df.sum(axis = 0, skipna = True)     \n",
        "trainingDataFrame"
      ],
      "execution_count": null,
      "outputs": [
        {
          "output_type": "execute_result",
          "data": {
            "text/html": [
              "<div>\n",
              "<style scoped>\n",
              "    .dataframe tbody tr th:only-of-type {\n",
              "        vertical-align: middle;\n",
              "    }\n",
              "\n",
              "    .dataframe tbody tr th {\n",
              "        vertical-align: top;\n",
              "    }\n",
              "\n",
              "    .dataframe thead th {\n",
              "        text-align: right;\n",
              "    }\n",
              "</style>\n",
              "<table border=\"1\" class=\"dataframe\">\n",
              "  <thead>\n",
              "    <tr style=\"text-align: right;\">\n",
              "      <th></th>\n",
              "      <th>dateTime</th>\n",
              "      <th>instrument</th>\n",
              "      <th>INST1</th>\n",
              "      <th>INST2</th>\n",
              "      <th>INST3</th>\n",
              "      <th>INST4</th>\n",
              "      <th>INST5</th>\n",
              "      <th>INST6</th>\n",
              "      <th>Seconds</th>\n",
              "      <th>High</th>\n",
              "      <th>Low</th>\n",
              "      <th>Open</th>\n",
              "      <th>Close</th>\n",
              "      <th>Qty</th>\n",
              "    </tr>\n",
              "  </thead>\n",
              "  <tbody>\n",
              "    <tr>\n",
              "      <th>0</th>\n",
              "      <td>2018-12-03 09:00:00</td>\n",
              "      <td>1</td>\n",
              "      <td>1</td>\n",
              "      <td>0</td>\n",
              "      <td>0</td>\n",
              "      <td>0</td>\n",
              "      <td>0</td>\n",
              "      <td>0</td>\n",
              "      <td>0</td>\n",
              "      <td>2556.0</td>\n",
              "      <td>2556.0</td>\n",
              "      <td>2556.0</td>\n",
              "      <td>2556.0</td>\n",
              "      <td>1.0</td>\n",
              "    </tr>\n",
              "    <tr>\n",
              "      <th>0</th>\n",
              "      <td>2018-12-04 09:00:00</td>\n",
              "      <td>4</td>\n",
              "      <td>0</td>\n",
              "      <td>0</td>\n",
              "      <td>0</td>\n",
              "      <td>1</td>\n",
              "      <td>0</td>\n",
              "      <td>0</td>\n",
              "      <td>0</td>\n",
              "      <td>1850.0</td>\n",
              "      <td>1850.0</td>\n",
              "      <td>1850.0</td>\n",
              "      <td>1850.0</td>\n",
              "      <td>5.0</td>\n",
              "    </tr>\n",
              "    <tr>\n",
              "      <th>0</th>\n",
              "      <td>2018-12-04 09:00:00</td>\n",
              "      <td>3</td>\n",
              "      <td>0</td>\n",
              "      <td>0</td>\n",
              "      <td>1</td>\n",
              "      <td>0</td>\n",
              "      <td>0</td>\n",
              "      <td>0</td>\n",
              "      <td>0</td>\n",
              "      <td>690.0</td>\n",
              "      <td>690.0</td>\n",
              "      <td>690.0</td>\n",
              "      <td>690.0</td>\n",
              "      <td>1.0</td>\n",
              "    </tr>\n",
              "    <tr>\n",
              "      <th>0</th>\n",
              "      <td>2018-12-05 09:00:00</td>\n",
              "      <td>4</td>\n",
              "      <td>0</td>\n",
              "      <td>0</td>\n",
              "      <td>0</td>\n",
              "      <td>1</td>\n",
              "      <td>0</td>\n",
              "      <td>0</td>\n",
              "      <td>0</td>\n",
              "      <td>1844.0</td>\n",
              "      <td>1844.0</td>\n",
              "      <td>1844.0</td>\n",
              "      <td>1844.0</td>\n",
              "      <td>1.0</td>\n",
              "    </tr>\n",
              "    <tr>\n",
              "      <th>0</th>\n",
              "      <td>2018-12-05 09:00:00</td>\n",
              "      <td>6</td>\n",
              "      <td>0</td>\n",
              "      <td>0</td>\n",
              "      <td>0</td>\n",
              "      <td>0</td>\n",
              "      <td>0</td>\n",
              "      <td>1</td>\n",
              "      <td>0</td>\n",
              "      <td>3312.0</td>\n",
              "      <td>3312.0</td>\n",
              "      <td>3312.0</td>\n",
              "      <td>3312.0</td>\n",
              "      <td>7.0</td>\n",
              "    </tr>\n",
              "    <tr>\n",
              "      <th>...</th>\n",
              "      <td>...</td>\n",
              "      <td>...</td>\n",
              "      <td>...</td>\n",
              "      <td>...</td>\n",
              "      <td>...</td>\n",
              "      <td>...</td>\n",
              "      <td>...</td>\n",
              "      <td>...</td>\n",
              "      <td>...</td>\n",
              "      <td>...</td>\n",
              "      <td>...</td>\n",
              "      <td>...</td>\n",
              "      <td>...</td>\n",
              "      <td>...</td>\n",
              "    </tr>\n",
              "    <tr>\n",
              "      <th>28800</th>\n",
              "      <td>2018-12-05 17:00:00</td>\n",
              "      <td>5</td>\n",
              "      <td>0</td>\n",
              "      <td>0</td>\n",
              "      <td>0</td>\n",
              "      <td>0</td>\n",
              "      <td>1</td>\n",
              "      <td>0</td>\n",
              "      <td>28800</td>\n",
              "      <td>3055.0</td>\n",
              "      <td>3055.0</td>\n",
              "      <td>3055.0</td>\n",
              "      <td>3055.0</td>\n",
              "      <td>4.0</td>\n",
              "    </tr>\n",
              "    <tr>\n",
              "      <th>28800</th>\n",
              "      <td>2018-12-05 17:00:00</td>\n",
              "      <td>3</td>\n",
              "      <td>0</td>\n",
              "      <td>0</td>\n",
              "      <td>1</td>\n",
              "      <td>0</td>\n",
              "      <td>0</td>\n",
              "      <td>0</td>\n",
              "      <td>28800</td>\n",
              "      <td>670.0</td>\n",
              "      <td>670.0</td>\n",
              "      <td>670.0</td>\n",
              "      <td>670.0</td>\n",
              "      <td>17.0</td>\n",
              "    </tr>\n",
              "    <tr>\n",
              "      <th>28800</th>\n",
              "      <td>2018-12-06 17:00:00</td>\n",
              "      <td>5</td>\n",
              "      <td>0</td>\n",
              "      <td>0</td>\n",
              "      <td>0</td>\n",
              "      <td>0</td>\n",
              "      <td>1</td>\n",
              "      <td>0</td>\n",
              "      <td>28800</td>\n",
              "      <td>3075.0</td>\n",
              "      <td>3075.0</td>\n",
              "      <td>3075.0</td>\n",
              "      <td>3075.0</td>\n",
              "      <td>33.0</td>\n",
              "    </tr>\n",
              "    <tr>\n",
              "      <th>28800</th>\n",
              "      <td>2018-12-03 17:00:00</td>\n",
              "      <td>2</td>\n",
              "      <td>0</td>\n",
              "      <td>1</td>\n",
              "      <td>0</td>\n",
              "      <td>0</td>\n",
              "      <td>0</td>\n",
              "      <td>0</td>\n",
              "      <td>28800</td>\n",
              "      <td>4475.0</td>\n",
              "      <td>4475.0</td>\n",
              "      <td>4475.0</td>\n",
              "      <td>4475.0</td>\n",
              "      <td>1.0</td>\n",
              "    </tr>\n",
              "    <tr>\n",
              "      <th>28800</th>\n",
              "      <td>2018-12-06 17:00:00</td>\n",
              "      <td>2</td>\n",
              "      <td>0</td>\n",
              "      <td>1</td>\n",
              "      <td>0</td>\n",
              "      <td>0</td>\n",
              "      <td>0</td>\n",
              "      <td>0</td>\n",
              "      <td>28800</td>\n",
              "      <td>4114.0</td>\n",
              "      <td>4114.0</td>\n",
              "      <td>4114.0</td>\n",
              "      <td>4114.0</td>\n",
              "      <td>12.0</td>\n",
              "    </tr>\n",
              "  </tbody>\n",
              "</table>\n",
              "<p>691206 rows × 14 columns</p>\n",
              "</div>"
            ],
            "text/plain": [
              "                 dateTime  instrument  INST1  ...    Open   Close   Qty\n",
              "0     2018-12-03 09:00:00           1      1  ...  2556.0  2556.0   1.0\n",
              "0     2018-12-04 09:00:00           4      0  ...  1850.0  1850.0   5.0\n",
              "0     2018-12-04 09:00:00           3      0  ...   690.0   690.0   1.0\n",
              "0     2018-12-05 09:00:00           4      0  ...  1844.0  1844.0   1.0\n",
              "0     2018-12-05 09:00:00           6      0  ...  3312.0  3312.0   7.0\n",
              "...                   ...         ...    ...  ...     ...     ...   ...\n",
              "28800 2018-12-05 17:00:00           5      0  ...  3055.0  3055.0   4.0\n",
              "28800 2018-12-05 17:00:00           3      0  ...   670.0   670.0  17.0\n",
              "28800 2018-12-06 17:00:00           5      0  ...  3075.0  3075.0  33.0\n",
              "28800 2018-12-03 17:00:00           2      0  ...  4475.0  4475.0   1.0\n",
              "28800 2018-12-06 17:00:00           2      0  ...  4114.0  4114.0  12.0\n",
              "\n",
              "[691206 rows x 14 columns]"
            ]
          },
          "metadata": {
            "tags": []
          },
          "execution_count": 7
        }
      ]
    },
    {
      "cell_type": "code",
      "metadata": {
        "id": "k_HSfsK1NpPg"
      },
      "source": [
        "#log of change\n",
        "df['log_ret'] = np.log(df.Close) - np.log(df.Close.shift(1))"
      ],
      "execution_count": null,
      "outputs": []
    },
    {
      "cell_type": "markdown",
      "metadata": {
        "id": "HSG9vwb5AIHX"
      },
      "source": [
        "Now, lets get the data ready for feeding to NN"
      ]
    },
    {
      "cell_type": "code",
      "metadata": {
        "id": "GcOWxHQmZCOk"
      },
      "source": [
        "#set dateTime as index\n",
        "trainingDataFrame.set_index('dateTime',inplace=True)#drop=True, append=False, inplace=False, verify_integrity=False)\n",
        "\n",
        "#trainingDataFrame.iloc[155000:155020]\n",
        "#sort dataframe rows by datetime index\n",
        "trainingDataFrame = trainingDataFrame.sort_index()\n",
        "\n"
      ],
      "execution_count": null,
      "outputs": []
    },
    {
      "cell_type": "code",
      "metadata": {
        "id": "fG8OnSFd3ryn",
        "colab": {
          "base_uri": "https://localhost:8080/",
          "height": 450
        },
        "outputId": "1a0b01f1-3c9f-4b4c-ee6e-4952c7303cc1"
      },
      "source": [
        "trainingDataFrame.head(65)\n",
        "#graphingDF.groupby(graphingDF.index)\n",
        "#graphingDF#.head(65)\n"
      ],
      "execution_count": null,
      "outputs": [
        {
          "output_type": "execute_result",
          "data": {
            "text/html": [
              "<div>\n",
              "<style scoped>\n",
              "    .dataframe tbody tr th:only-of-type {\n",
              "        vertical-align: middle;\n",
              "    }\n",
              "\n",
              "    .dataframe tbody tr th {\n",
              "        vertical-align: top;\n",
              "    }\n",
              "\n",
              "    .dataframe thead th {\n",
              "        text-align: right;\n",
              "    }\n",
              "</style>\n",
              "<table border=\"1\" class=\"dataframe\">\n",
              "  <thead>\n",
              "    <tr style=\"text-align: right;\">\n",
              "      <th></th>\n",
              "      <th>instrument</th>\n",
              "      <th>INST1</th>\n",
              "      <th>INST2</th>\n",
              "      <th>INST3</th>\n",
              "      <th>INST4</th>\n",
              "      <th>INST5</th>\n",
              "      <th>INST6</th>\n",
              "      <th>Seconds</th>\n",
              "      <th>High</th>\n",
              "      <th>Low</th>\n",
              "      <th>Open</th>\n",
              "      <th>Close</th>\n",
              "      <th>Qty</th>\n",
              "    </tr>\n",
              "    <tr>\n",
              "      <th>dateTime</th>\n",
              "      <th></th>\n",
              "      <th></th>\n",
              "      <th></th>\n",
              "      <th></th>\n",
              "      <th></th>\n",
              "      <th></th>\n",
              "      <th></th>\n",
              "      <th></th>\n",
              "      <th></th>\n",
              "      <th></th>\n",
              "      <th></th>\n",
              "      <th></th>\n",
              "      <th></th>\n",
              "    </tr>\n",
              "  </thead>\n",
              "  <tbody>\n",
              "    <tr>\n",
              "      <th>2018-12-03 09:00:00</th>\n",
              "      <td>1</td>\n",
              "      <td>1</td>\n",
              "      <td>0</td>\n",
              "      <td>0</td>\n",
              "      <td>0</td>\n",
              "      <td>0</td>\n",
              "      <td>0</td>\n",
              "      <td>0</td>\n",
              "      <td>2556.0</td>\n",
              "      <td>2556.0</td>\n",
              "      <td>2556.0</td>\n",
              "      <td>2556.0</td>\n",
              "      <td>1.0</td>\n",
              "    </tr>\n",
              "    <tr>\n",
              "      <th>2018-12-03 09:00:00</th>\n",
              "      <td>6</td>\n",
              "      <td>0</td>\n",
              "      <td>0</td>\n",
              "      <td>0</td>\n",
              "      <td>0</td>\n",
              "      <td>0</td>\n",
              "      <td>1</td>\n",
              "      <td>0</td>\n",
              "      <td>3271.0</td>\n",
              "      <td>3271.0</td>\n",
              "      <td>3271.0</td>\n",
              "      <td>3271.0</td>\n",
              "      <td>1.0</td>\n",
              "    </tr>\n",
              "    <tr>\n",
              "      <th>2018-12-03 09:00:00</th>\n",
              "      <td>3</td>\n",
              "      <td>0</td>\n",
              "      <td>0</td>\n",
              "      <td>1</td>\n",
              "      <td>0</td>\n",
              "      <td>0</td>\n",
              "      <td>0</td>\n",
              "      <td>0</td>\n",
              "      <td>696.0</td>\n",
              "      <td>696.0</td>\n",
              "      <td>696.0</td>\n",
              "      <td>696.0</td>\n",
              "      <td>2.0</td>\n",
              "    </tr>\n",
              "    <tr>\n",
              "      <th>2018-12-03 09:00:00</th>\n",
              "      <td>2</td>\n",
              "      <td>0</td>\n",
              "      <td>1</td>\n",
              "      <td>0</td>\n",
              "      <td>0</td>\n",
              "      <td>0</td>\n",
              "      <td>0</td>\n",
              "      <td>0</td>\n",
              "      <td>4670.0</td>\n",
              "      <td>4670.0</td>\n",
              "      <td>4670.0</td>\n",
              "      <td>4670.0</td>\n",
              "      <td>1.0</td>\n",
              "    </tr>\n",
              "    <tr>\n",
              "      <th>2018-12-03 09:00:00</th>\n",
              "      <td>5</td>\n",
              "      <td>0</td>\n",
              "      <td>0</td>\n",
              "      <td>0</td>\n",
              "      <td>0</td>\n",
              "      <td>1</td>\n",
              "      <td>0</td>\n",
              "      <td>0</td>\n",
              "      <td>3105.0</td>\n",
              "      <td>3105.0</td>\n",
              "      <td>3105.0</td>\n",
              "      <td>3105.0</td>\n",
              "      <td>2.0</td>\n",
              "    </tr>\n",
              "    <tr>\n",
              "      <th>...</th>\n",
              "      <td>...</td>\n",
              "      <td>...</td>\n",
              "      <td>...</td>\n",
              "      <td>...</td>\n",
              "      <td>...</td>\n",
              "      <td>...</td>\n",
              "      <td>...</td>\n",
              "      <td>...</td>\n",
              "      <td>...</td>\n",
              "      <td>...</td>\n",
              "      <td>...</td>\n",
              "      <td>...</td>\n",
              "      <td>...</td>\n",
              "    </tr>\n",
              "    <tr>\n",
              "      <th>2018-12-03 09:00:10</th>\n",
              "      <td>3</td>\n",
              "      <td>0</td>\n",
              "      <td>0</td>\n",
              "      <td>1</td>\n",
              "      <td>0</td>\n",
              "      <td>0</td>\n",
              "      <td>0</td>\n",
              "      <td>10</td>\n",
              "      <td>NaN</td>\n",
              "      <td>NaN</td>\n",
              "      <td>NaN</td>\n",
              "      <td>700.0</td>\n",
              "      <td>NaN</td>\n",
              "    </tr>\n",
              "    <tr>\n",
              "      <th>2018-12-03 09:00:10</th>\n",
              "      <td>1</td>\n",
              "      <td>1</td>\n",
              "      <td>0</td>\n",
              "      <td>0</td>\n",
              "      <td>0</td>\n",
              "      <td>0</td>\n",
              "      <td>0</td>\n",
              "      <td>10</td>\n",
              "      <td>NaN</td>\n",
              "      <td>NaN</td>\n",
              "      <td>NaN</td>\n",
              "      <td>2567.0</td>\n",
              "      <td>NaN</td>\n",
              "    </tr>\n",
              "    <tr>\n",
              "      <th>2018-12-03 09:00:10</th>\n",
              "      <td>5</td>\n",
              "      <td>0</td>\n",
              "      <td>0</td>\n",
              "      <td>0</td>\n",
              "      <td>0</td>\n",
              "      <td>1</td>\n",
              "      <td>0</td>\n",
              "      <td>10</td>\n",
              "      <td>NaN</td>\n",
              "      <td>NaN</td>\n",
              "      <td>NaN</td>\n",
              "      <td>3105.0</td>\n",
              "      <td>NaN</td>\n",
              "    </tr>\n",
              "    <tr>\n",
              "      <th>2018-12-03 09:00:10</th>\n",
              "      <td>4</td>\n",
              "      <td>0</td>\n",
              "      <td>0</td>\n",
              "      <td>0</td>\n",
              "      <td>1</td>\n",
              "      <td>0</td>\n",
              "      <td>0</td>\n",
              "      <td>10</td>\n",
              "      <td>NaN</td>\n",
              "      <td>NaN</td>\n",
              "      <td>NaN</td>\n",
              "      <td>1856.0</td>\n",
              "      <td>NaN</td>\n",
              "    </tr>\n",
              "    <tr>\n",
              "      <th>2018-12-03 09:00:10</th>\n",
              "      <td>6</td>\n",
              "      <td>0</td>\n",
              "      <td>0</td>\n",
              "      <td>0</td>\n",
              "      <td>0</td>\n",
              "      <td>0</td>\n",
              "      <td>1</td>\n",
              "      <td>10</td>\n",
              "      <td>NaN</td>\n",
              "      <td>NaN</td>\n",
              "      <td>NaN</td>\n",
              "      <td>3300.0</td>\n",
              "      <td>NaN</td>\n",
              "    </tr>\n",
              "  </tbody>\n",
              "</table>\n",
              "<p>65 rows × 13 columns</p>\n",
              "</div>"
            ],
            "text/plain": [
              "                     instrument  INST1  INST2  ...    Open   Close  Qty\n",
              "dateTime                                       ...                     \n",
              "2018-12-03 09:00:00           1      1      0  ...  2556.0  2556.0  1.0\n",
              "2018-12-03 09:00:00           6      0      0  ...  3271.0  3271.0  1.0\n",
              "2018-12-03 09:00:00           3      0      0  ...   696.0   696.0  2.0\n",
              "2018-12-03 09:00:00           2      0      1  ...  4670.0  4670.0  1.0\n",
              "2018-12-03 09:00:00           5      0      0  ...  3105.0  3105.0  2.0\n",
              "...                         ...    ...    ...  ...     ...     ...  ...\n",
              "2018-12-03 09:00:10           3      0      0  ...     NaN   700.0  NaN\n",
              "2018-12-03 09:00:10           1      1      0  ...     NaN  2567.0  NaN\n",
              "2018-12-03 09:00:10           5      0      0  ...     NaN  3105.0  NaN\n",
              "2018-12-03 09:00:10           4      0      0  ...     NaN  1856.0  NaN\n",
              "2018-12-03 09:00:10           6      0      0  ...     NaN  3300.0  NaN\n",
              "\n",
              "[65 rows x 13 columns]"
            ]
          },
          "metadata": {
            "tags": []
          },
          "execution_count": 11
        }
      ]
    },
    {
      "cell_type": "code",
      "metadata": {
        "id": "ccOq_uVrAXID",
        "colab": {
          "base_uri": "https://localhost:8080/",
          "height": 279
        },
        "outputId": "87eead02-dc93-41d5-a7d2-6ac2b9f9c19a"
      },
      "source": [
        "#graph\n",
        "trainingDataFrame[['Close', 'High']].plot()\n",
        "plt.show()\n",
        "#build dataset to graph - look at close of each series, vs time\n",
        "#ds = pd.DataFrame(getColData(i),columns=['c1','c2','c3','c4','c5','c6'])\n",
        "\n",
        "#cp = (trainingDataFrame['Close'].where(trainingDataFrame['instrument']==1)).copy()\n",
        "#cp.dropna(0,inplace=True)\n",
        "#ds = pd.DataFrame(cp.copy().tolist(),columns=['c1'],index=0)\n",
        "#ds = cp.copy()\n",
        "#ds.rename(columns={ ds.columns[1]: \"c1\" }, inplace = True)\n",
        "#gds = trainingDataFrame[['instrument','Close']]\n",
        "#ds['c1']=trainingDataFrame['Close']\n",
        "# making boolean series for a team name \n",
        "#filter = trainingDataFrame['instrument']==1\n",
        "# filtering data \n",
        "#ds = trainingDataFrame.where(filter, inplace = True) \n",
        "#drop rows that are all NaN\n",
        "#ds.dropna(0, how='all', subset=['c1'], inplace=True)\n",
        "#\n",
        "#ds.drop(columns=['Close','Qty'])\n",
        "#dataset.drop('No', axis=1, inplace=True)\n",
        "#len(ds.index)\n",
        "#print(ds.tail(22))\n",
        "\n",
        "#import seaborn as sns\n",
        "#sns.pairplot(gds)\n",
        "#ds"
      ],
      "execution_count": null,
      "outputs": [
        {
          "output_type": "display_data",
          "data": {
            "image/png": "[encoded data removed]",
            "text/plain": [
              "<Figure size 432x288 with 1 Axes>"
            ]
          },
          "metadata": {
            "tags": [],
            "needs_background": "light"
          }
        }
      ]
    },
    {
      "cell_type": "markdown",
      "metadata": {
        "id": "t6Ws7oJIb4J3"
      },
      "source": [
        "J Welles Wilder chose CHXX as best representative pair of possibilities to represent __________. Why? The answer presented in a separate article may be relevant to choice of col to feed to NN. For example, instructions given orally were to use instruments 1 through 5 as predictors of inst6 (target). Therefore, inst6 will not be used as a feature. It would be interesting to examine how prediction accuracy is affected by including inst6 as feature in addition to being target. Percaution is needed to avoid look ahead bias error."
      ]
    },
    {
      "cell_type": "markdown",
      "metadata": {
        "id": "XgJS5mQ7D0dl"
      },
      "source": [
        "\n",
        "\n",
        "\n",
        "\n",
        "Graph for visual inspection"
      ]
    },
    {
      "cell_type": "code",
      "metadata": {
        "id": "NAmgCHJmQSCX",
        "colab": {
          "base_uri": "https://localhost:8080/",
          "height": 71
        },
        "outputId": "cc760d9b-7955-4aa9-f99f-ee690df6e62c"
      },
      "source": [
        "\n",
        "import seaborn as sns\n"
      ],
      "execution_count": null,
      "outputs": [
        {
          "output_type": "stream",
          "text": [
            "/usr/local/lib/python3.6/dist-packages/statsmodels/tools/_testing.py:19: FutureWarning: pandas.util.testing is deprecated. Use the functions in the public API at pandas.testing instead.\n",
            "  import pandas.util.testing as tm\n"
          ],
          "name": "stderr"
        }
      ]
    },
    {
      "cell_type": "markdown",
      "metadata": {
        "id": "RqpY9AopDG74"
      },
      "source": [
        "PREPARE DATA\n",
        "- combine training data into one large set. Instrument being categorical, is converted to one-hot encoding. Normalize data for ML PCA"
      ]
    },
    {
      "cell_type": "code",
      "metadata": {
        "id": "gDQNwj7TDtVs",
        "colab": {
          "base_uri": "https://localhost:8080/",
          "height": 164
        },
        "outputId": "eef1a47f-b7b5-4f98-85ca-81944d47ee45"
      },
      "source": [
        "bla"
      ],
      "execution_count": null,
      "outputs": [
        {
          "output_type": "error",
          "ename": "NameError",
          "evalue": "ignored",
          "traceback": [
            "\u001b[0;31m---------------------------------------------------------------------------\u001b[0m",
            "\u001b[0;31mNameError\u001b[0m                                 Traceback (most recent call last)",
            "\u001b[0;32m<ipython-input-14-047595d0fae9>\u001b[0m in \u001b[0;36m<module>\u001b[0;34m()\u001b[0m\n\u001b[0;32m----> 1\u001b[0;31m \u001b[0mbla\u001b[0m\u001b[0;34m\u001b[0m\u001b[0;34m\u001b[0m\u001b[0m\n\u001b[0m",
            "\u001b[0;31mNameError\u001b[0m: name 'bla' is not defined"
          ]
        }
      ]
    },
    {
      "cell_type": "markdown",
      "metadata": {
        "id": "wy7H7GH-Du44"
      },
      "source": []
    },
    {
      "cell_type": "code",
      "metadata": {
        "id": "Zswl7jRtGzkk"
      },
      "source": [
        "def plot_series(time, series, format=\"-\", start=0, end=None):\n",
        "    plt.plot(time[start:end], series[start:end], format)\n",
        "    plt.xlabel(\"Time\")\n",
        "    plt.ylabel(\"Value\")\n",
        "    plt.grid(True)\n",
        "\n",
        "def trend(time, slope=0):\n",
        "    return slope * time\n",
        "\n",
        "def seasonal_pattern(season_time):\n",
        "    \"\"\"Just an arbitrary pattern, you can change it if you wish\"\"\"\n",
        "    return np.where(season_time < 0.4,\n",
        "                    np.cos(season_time * 2 * np.pi),\n",
        "                    1 / np.exp(3 * season_time))\n",
        "\n",
        "def seasonality(time, period, amplitude=1, phase=0):\n",
        "    \"\"\"Repeats the same pattern at each period\"\"\"\n",
        "    season_time = ((time + phase) % period) / period\n",
        "    return amplitude * seasonal_pattern(season_time)\n",
        "\n",
        "def noise(time, noise_level=1, seed=None):\n",
        "    rnd = np.random.RandomState(seed)\n",
        "    return rnd.randn(len(time)) * noise_level\n",
        "\n",
        "time = np.arange(4 * 365 + 1, dtype=\"float32\")\n",
        "baseline = 10\n",
        "series = trend(time, 0.1)  \n",
        "baseline = 10\n",
        "amplitude = 40\n",
        "slope = 0.05\n",
        "noise_level = 5\n",
        "\n",
        "# Create the series\n",
        "series = baseline + trend(time, slope) + seasonality(time, period=365, amplitude=amplitude)\n",
        "# Update with noise\n",
        "series += noise(time, noise_level, seed=42)\n",
        "\n",
        "split_time = 1000\n",
        "time_train = time[:split_time]\n",
        "x_train = series[:split_time]\n",
        "time_valid = time[split_time:]\n",
        "x_valid = series[split_time:]\n",
        "\n",
        "window_size = 20\n",
        "batch_size = 32\n",
        "shuffle_buffer_size = 1000"
      ],
      "execution_count": null,
      "outputs": []
    },
    {
      "cell_type": "code",
      "metadata": {
        "id": "4sTTIOCbyShY"
      },
      "source": [
        "def windowed_dataset(series, window_size, batch_size, shuffle_buffer):\n",
        "  dataset = tf.data.Dataset.from_tensor_slices(series)\n",
        "  dataset = dataset.window(window_size + 1, shift=1, drop_remainder=True)\n",
        "  dataset = dataset.flat_map(lambda window: window.batch(window_size + 1))\n",
        "  dataset = dataset.shuffle(shuffle_buffer).map(lambda window: (window[:-1], window[-1]))\n",
        "  dataset = dataset.batch(batch_size).prefetch(1)\n",
        "  return dataset"
      ],
      "execution_count": null,
      "outputs": []
    },
    {
      "cell_type": "code",
      "metadata": {
        "id": "A1Hl39rklkLm",
        "colab": {
          "base_uri": "https://localhost:8080/",
          "height": 1000
        },
        "outputId": "27515a62-cd3b-4d2d-eca2-bb14ede68038"
      },
      "source": [
        "tf.keras.backend.clear_session()\n",
        "tf.random.set_seed(51)\n",
        "np.random.seed(51)\n",
        "\n",
        "tf.keras.backend.clear_session()\n",
        "dataset = windowed_dataset(x_train, window_size, batch_size, shuffle_buffer_size)\n",
        "\n",
        "model = tf.keras.models.Sequential([\n",
        "  tf.keras.layers.Lambda(lambda x: tf.expand_dims(x, axis=-1),\n",
        "                      input_shape=[None]),\n",
        "    tf.keras.layers.Bidirectional(tf.keras.layers.LSTM(32, return_sequences=True)),\n",
        "  tf.keras.layers.Bidirectional(tf.keras.layers.LSTM(32)),\n",
        "  tf.keras.layers.Dense(1),\n",
        "  tf.keras.layers.Lambda(lambda x: x * 100.0)\n",
        "])\n",
        "\n",
        "lr_schedule = tf.keras.callbacks.LearningRateScheduler(\n",
        "    lambda epoch: 1e-8 * 10**(epoch / 20))\n",
        "optimizer = tf.keras.optimizers.SGD(lr=1e-8, momentum=0.9)\n",
        "model.compile(loss=tf.keras.losses.Huber(),\n",
        "              optimizer=optimizer,\n",
        "              metrics=[\"mae\"])\n",
        "history = model.fit(dataset, epochs=100, callbacks=[lr_schedule])"
      ],
      "execution_count": null,
      "outputs": [
        {
          "output_type": "stream",
          "text": [
            "Epoch 1/100\n",
            "31/31 [==============================] - 5s 168ms/step - loss: 21.4949 - mae: 22.0115\n",
            "Epoch 2/100\n",
            "31/31 [==============================] - 1s 30ms/step - loss: 21.1128 - mae: 21.6440\n",
            "Epoch 3/100\n",
            "31/31 [==============================] - 1s 31ms/step - loss: 20.7468 - mae: 21.2278\n",
            "Epoch 4/100\n",
            "31/31 [==============================] - 1s 30ms/step - loss: 20.3564 - mae: 20.7739\n",
            "Epoch 5/100\n",
            "31/31 [==============================] - 1s 31ms/step - loss: 19.7907 - mae: 20.2843\n",
            "Epoch 6/100\n",
            "31/31 [==============================] - 1s 32ms/step - loss: 19.1428 - mae: 19.6776\n",
            "Epoch 7/100\n",
            "31/31 [==============================] - 1s 32ms/step - loss: 18.2205 - mae: 18.7308\n",
            "Epoch 8/100\n",
            "31/31 [==============================] - 1s 30ms/step - loss: 17.5280 - mae: 17.9757\n",
            "Epoch 9/100\n",
            "31/31 [==============================] - 1s 33ms/step - loss: 17.1315 - mae: 17.6581\n",
            "Epoch 10/100\n",
            "31/31 [==============================] - 1s 31ms/step - loss: 16.8294 - mae: 17.3457\n",
            "Epoch 11/100\n",
            "31/31 [==============================] - 1s 31ms/step - loss: 16.5175 - mae: 17.0459\n",
            "Epoch 12/100\n",
            "31/31 [==============================] - 1s 31ms/step - loss: 16.2835 - mae: 16.7529\n",
            "Epoch 13/100\n",
            "31/31 [==============================] - 1s 31ms/step - loss: 15.9576 - mae: 16.4573\n",
            "Epoch 14/100\n",
            "31/31 [==============================] - 1s 32ms/step - loss: 15.6444 - mae: 16.1587\n",
            "Epoch 15/100\n",
            "31/31 [==============================] - 1s 33ms/step - loss: 15.3548 - mae: 15.8571\n",
            "Epoch 16/100\n",
            "31/31 [==============================] - 1s 31ms/step - loss: 15.0615 - mae: 15.5765\n",
            "Epoch 17/100\n",
            "31/31 [==============================] - 1s 31ms/step - loss: 14.8060 - mae: 15.2950\n",
            "Epoch 18/100\n",
            "31/31 [==============================] - 1s 33ms/step - loss: 14.5474 - mae: 15.0164\n",
            "Epoch 19/100\n",
            "31/31 [==============================] - 1s 33ms/step - loss: 14.2308 - mae: 14.7612\n",
            "Epoch 20/100\n",
            "31/31 [==============================] - 1s 31ms/step - loss: 14.0179 - mae: 14.5354\n",
            "Epoch 21/100\n",
            "31/31 [==============================] - 1s 33ms/step - loss: 13.8130 - mae: 14.3081\n",
            "Epoch 22/100\n",
            "31/31 [==============================] - 1s 32ms/step - loss: 13.5935 - mae: 14.1062\n",
            "Epoch 23/100\n",
            "31/31 [==============================] - 1s 31ms/step - loss: 13.3985 - mae: 13.8858\n",
            "Epoch 24/100\n",
            "31/31 [==============================] - 1s 31ms/step - loss: 13.2187 - mae: 13.7037\n",
            "Epoch 25/100\n",
            "31/31 [==============================] - 1s 31ms/step - loss: 12.9267 - mae: 13.4526\n",
            "Epoch 26/100\n",
            "31/31 [==============================] - 1s 30ms/step - loss: 12.7290 - mae: 13.2327\n",
            "Epoch 27/100\n",
            "31/31 [==============================] - 1s 29ms/step - loss: 12.4543 - mae: 12.9716\n",
            "Epoch 28/100\n",
            "31/31 [==============================] - 1s 30ms/step - loss: 12.2231 - mae: 12.7095\n",
            "Epoch 29/100\n",
            "31/31 [==============================] - 1s 33ms/step - loss: 12.3309 - mae: 12.8460\n",
            "Epoch 30/100\n",
            "31/31 [==============================] - 1s 32ms/step - loss: 11.8069 - mae: 12.3121\n",
            "Epoch 31/100\n",
            "31/31 [==============================] - 1s 31ms/step - loss: 11.3216 - mae: 11.8148\n",
            "Epoch 32/100\n",
            "31/31 [==============================] - 1s 30ms/step - loss: 11.0173 - mae: 11.4830\n",
            "Epoch 33/100\n",
            "31/31 [==============================] - 1s 31ms/step - loss: 10.6577 - mae: 11.1361\n",
            "Epoch 34/100\n",
            "31/31 [==============================] - 1s 31ms/step - loss: 10.8241 - mae: 11.3007\n",
            "Epoch 35/100\n",
            "31/31 [==============================] - 1s 34ms/step - loss: 10.9697 - mae: 11.4606\n",
            "Epoch 36/100\n",
            "31/31 [==============================] - 1s 30ms/step - loss: 10.4872 - mae: 10.9636\n",
            "Epoch 37/100\n",
            "31/31 [==============================] - 1s 30ms/step - loss: 10.0051 - mae: 10.4892\n",
            "Epoch 38/100\n",
            "31/31 [==============================] - 1s 33ms/step - loss: 9.5181 - mae: 10.0283\n",
            "Epoch 39/100\n",
            "31/31 [==============================] - 1s 31ms/step - loss: 9.0591 - mae: 9.5461\n",
            "Epoch 40/100\n",
            "31/31 [==============================] - 1s 31ms/step - loss: 8.6498 - mae: 9.1358\n",
            "Epoch 41/100\n",
            "31/31 [==============================] - 1s 31ms/step - loss: 8.2329 - mae: 8.7356\n",
            "Epoch 42/100\n",
            "31/31 [==============================] - 1s 30ms/step - loss: 7.9299 - mae: 8.4081\n",
            "Epoch 43/100\n",
            "31/31 [==============================] - 1s 30ms/step - loss: 7.6007 - mae: 8.1137\n",
            "Epoch 44/100\n",
            "31/31 [==============================] - 1s 30ms/step - loss: 7.3032 - mae: 7.8033\n",
            "Epoch 45/100\n",
            "31/31 [==============================] - 1s 33ms/step - loss: 7.0877 - mae: 7.5770\n",
            "Epoch 46/100\n",
            "31/31 [==============================] - 1s 32ms/step - loss: 6.8843 - mae: 7.3933\n",
            "Epoch 47/100\n",
            "31/31 [==============================] - 1s 31ms/step - loss: 6.6226 - mae: 7.0771\n",
            "Epoch 48/100\n",
            "31/31 [==============================] - 1s 31ms/step - loss: 6.4349 - mae: 6.9074\n",
            "Epoch 49/100\n",
            "31/31 [==============================] - 1s 29ms/step - loss: 6.3954 - mae: 6.8757\n",
            "Epoch 50/100\n",
            "31/31 [==============================] - 1s 31ms/step - loss: 6.0277 - mae: 6.5164\n",
            "Epoch 51/100\n",
            "31/31 [==============================] - 1s 30ms/step - loss: 5.8894 - mae: 6.3634\n",
            "Epoch 52/100\n",
            "31/31 [==============================] - 1s 30ms/step - loss: 5.7521 - mae: 6.2421\n",
            "Epoch 53/100\n",
            "31/31 [==============================] - 1s 32ms/step - loss: 5.6553 - mae: 6.1419\n",
            "Epoch 54/100\n",
            "31/31 [==============================] - 1s 34ms/step - loss: 5.4473 - mae: 5.9468\n",
            "Epoch 55/100\n",
            "31/31 [==============================] - 1s 30ms/step - loss: 5.4122 - mae: 5.9006\n",
            "Epoch 56/100\n",
            "31/31 [==============================] - 1s 29ms/step - loss: 5.2623 - mae: 5.7471\n",
            "Epoch 57/100\n",
            "31/31 [==============================] - 1s 31ms/step - loss: 5.3106 - mae: 5.7881\n",
            "Epoch 58/100\n",
            "31/31 [==============================] - 1s 31ms/step - loss: 5.1929 - mae: 5.6591\n",
            "Epoch 59/100\n",
            "31/31 [==============================] - 1s 31ms/step - loss: 5.2541 - mae: 5.7545\n",
            "Epoch 60/100\n",
            "31/31 [==============================] - 1s 32ms/step - loss: 5.1063 - mae: 5.5567\n",
            "Epoch 61/100\n",
            "31/31 [==============================] - 1s 32ms/step - loss: 4.9472 - mae: 5.4250\n",
            "Epoch 62/100\n",
            "31/31 [==============================] - 1s 32ms/step - loss: 5.0917 - mae: 5.5808\n",
            "Epoch 63/100\n",
            "31/31 [==============================] - 1s 31ms/step - loss: 5.1680 - mae: 5.6630\n",
            "Epoch 64/100\n",
            "31/31 [==============================] - 1s 30ms/step - loss: 5.0575 - mae: 5.5312\n",
            "Epoch 65/100\n",
            "31/31 [==============================] - 1s 31ms/step - loss: 4.9006 - mae: 5.3900\n",
            "Epoch 66/100\n",
            "31/31 [==============================] - 1s 30ms/step - loss: 5.2745 - mae: 5.7637\n",
            "Epoch 67/100\n",
            "31/31 [==============================] - 1s 30ms/step - loss: 5.2607 - mae: 5.7446\n",
            "Epoch 68/100\n",
            "31/31 [==============================] - 1s 31ms/step - loss: 5.2219 - mae: 5.7234\n",
            "Epoch 69/100\n",
            "31/31 [==============================] - 1s 30ms/step - loss: 5.3456 - mae: 5.8346\n",
            "Epoch 70/100\n",
            "31/31 [==============================] - 1s 31ms/step - loss: 6.1695 - mae: 6.6386\n",
            "Epoch 71/100\n",
            "31/31 [==============================] - 1s 31ms/step - loss: 4.9524 - mae: 5.4135\n",
            "Epoch 72/100\n",
            "31/31 [==============================] - 1s 32ms/step - loss: 5.5661 - mae: 6.0636\n",
            "Epoch 73/100\n",
            "31/31 [==============================] - 1s 32ms/step - loss: 5.3435 - mae: 5.8208\n",
            "Epoch 74/100\n",
            "31/31 [==============================] - 1s 30ms/step - loss: 6.7295 - mae: 7.1966\n",
            "Epoch 75/100\n",
            "31/31 [==============================] - 1s 30ms/step - loss: 5.7209 - mae: 6.1957\n",
            "Epoch 76/100\n",
            "31/31 [==============================] - 1s 30ms/step - loss: 5.1361 - mae: 5.6158\n",
            "Epoch 77/100\n",
            "31/31 [==============================] - 1s 31ms/step - loss: 5.7700 - mae: 6.2385\n",
            "Epoch 78/100\n",
            "31/31 [==============================] - 1s 31ms/step - loss: 7.1160 - mae: 7.6426\n",
            "Epoch 79/100\n",
            "31/31 [==============================] - 1s 31ms/step - loss: 5.1408 - mae: 5.5955\n",
            "Epoch 80/100\n",
            "31/31 [==============================] - 1s 31ms/step - loss: 6.5603 - mae: 7.0136\n",
            "Epoch 81/100\n",
            "31/31 [==============================] - 1s 30ms/step - loss: 6.5901 - mae: 7.1079\n",
            "Epoch 82/100\n",
            "31/31 [==============================] - 1s 32ms/step - loss: 6.7842 - mae: 7.2374\n",
            "Epoch 83/100\n",
            "31/31 [==============================] - 1s 31ms/step - loss: 6.3530 - mae: 6.8347\n",
            "Epoch 84/100\n",
            "31/31 [==============================] - 1s 30ms/step - loss: 5.8671 - mae: 6.3277\n",
            "Epoch 85/100\n",
            "31/31 [==============================] - 1s 30ms/step - loss: 7.1769 - mae: 7.6007\n",
            "Epoch 86/100\n",
            "31/31 [==============================] - 1s 31ms/step - loss: 7.4673 - mae: 7.9559\n",
            "Epoch 87/100\n",
            "31/31 [==============================] - 1s 30ms/step - loss: 8.0605 - mae: 8.5456\n",
            "Epoch 88/100\n",
            "31/31 [==============================] - 1s 30ms/step - loss: 6.9597 - mae: 7.4773\n",
            "Epoch 89/100\n",
            "31/31 [==============================] - 1s 31ms/step - loss: 6.5257 - mae: 6.9714\n",
            "Epoch 90/100\n",
            "31/31 [==============================] - 1s 30ms/step - loss: 7.8902 - mae: 8.3901\n",
            "Epoch 91/100\n",
            "31/31 [==============================] - 1s 30ms/step - loss: 5.9261 - mae: 6.4224\n",
            "Epoch 92/100\n",
            "31/31 [==============================] - 1s 31ms/step - loss: 7.8160 - mae: 8.2557\n",
            "Epoch 93/100\n",
            "31/31 [==============================] - 1s 33ms/step - loss: 10.1226 - mae: 10.6407\n",
            "Epoch 94/100\n",
            "31/31 [==============================] - 1s 32ms/step - loss: 9.7183 - mae: 10.2520\n",
            "Epoch 95/100\n",
            "31/31 [==============================] - 1s 31ms/step - loss: 8.1838 - mae: 8.6051\n",
            "Epoch 96/100\n",
            "31/31 [==============================] - 1s 31ms/step - loss: 10.4008 - mae: 10.7728\n",
            "Epoch 97/100\n",
            "31/31 [==============================] - 1s 30ms/step - loss: 12.4193 - mae: 12.8968\n",
            "Epoch 98/100\n",
            "31/31 [==============================] - 1s 34ms/step - loss: 11.0743 - mae: 11.6217\n",
            "Epoch 99/100\n",
            "31/31 [==============================] - 1s 32ms/step - loss: 14.0315 - mae: 14.6141\n",
            "Epoch 100/100\n",
            "31/31 [==============================] - 1s 34ms/step - loss: 10.6631 - mae: 11.1881\n"
          ],
          "name": "stdout"
        }
      ]
    },
    {
      "cell_type": "code",
      "metadata": {
        "id": "AkBsrsXMzoWR",
        "colab": {
          "base_uri": "https://localhost:8080/",
          "height": 290
        },
        "outputId": "01ef5058-3b80-4e24-da8b-0e07b71477e8"
      },
      "source": [
        "plt.semilogx(history.history[\"lr\"], history.history[\"loss\"])\n",
        "plt.axis([1e-8, 1e-4, 0, 30])"
      ],
      "execution_count": null,
      "outputs": [
        {
          "output_type": "execute_result",
          "data": {
            "text/plain": [
              "[1e-08, 0.0001, 0, 30]"
            ]
          },
          "metadata": {
            "tags": []
          },
          "execution_count": 6
        },
        {
          "output_type": "display_data",
          "data": {
            "image/png": "[encoded data removed]",
            "text/plain": [
              "<Figure size 432x288 with 1 Axes>"
            ]
          },
          "metadata": {
            "tags": []
          }
        }
      ]
    },
    {
      "cell_type": "code",
      "metadata": {
        "id": "4uh-97bpLZCA"
      },
      "source": [
        "tf.keras.backend.clear_session()\n",
        "tf.random.set_seed(51)\n",
        "np.random.seed(51)\n",
        "\n",
        "tf.keras.backend.clear_session()\n",
        "dataset = windowed_dataset(x_train, window_size, batch_size, shuffle_buffer_size)\n",
        "\n",
        "model = tf.keras.models.Sequential([\n",
        "  tf.keras.layers.Lambda(lambda x: tf.expand_dims(x, axis=-1),\n",
        "                      input_shape=[None]),\n",
        "   tf.keras.layers.Bidirectional(tf.keras.layers.LSTM(32, return_sequences=True)),\n",
        "  tf.keras.layers.Bidirectional(tf.keras.layers.LSTM(32)),\n",
        "  tf.keras.layers.Dense(1),\n",
        "  tf.keras.layers.Lambda(lambda x: x * 100.0)\n",
        "])\n",
        "\n",
        "\n",
        "model.compile(loss=\"mse\", optimizer=tf.keras.optimizers.SGD(lr=1e-5, momentum=0.9),metrics=[\"mae\"])\n",
        "history = model.fit(dataset,epochs=500,verbose=0)"
      ],
      "execution_count": null,
      "outputs": []
    },
    {
      "cell_type": "code",
      "metadata": {
        "id": "icGDaND7z0ne",
        "colab": {
          "base_uri": "https://localhost:8080/",
          "height": 388
        },
        "outputId": "023851b8-515e-44f7-ca6b-06c5e99cd213"
      },
      "source": [
        "forecast = []\n",
        "results = []\n",
        "for time in range(len(series) - window_size):\n",
        "  forecast.append(model.predict(series[time:time + window_size][np.newaxis]))\n",
        "\n",
        "forecast = forecast[split_time-window_size:]\n",
        "results = np.array(forecast)[:, 0, 0]\n",
        "\n",
        "\n",
        "plt.figure(figsize=(10, 6))\n",
        "\n",
        "plot_series(time_valid, x_valid)\n",
        "plot_series(time_valid, results)"
      ],
      "execution_count": null,
      "outputs": [
        {
          "output_type": "display_data",
          "data": {
            "image/png": "[encoded data removed]",
            "text/plain": [
              "<Figure size 720x432 with 1 Axes>"
            ]
          },
          "metadata": {
            "tags": []
          }
        }
      ]
    },
    {
      "cell_type": "code",
      "metadata": {
        "id": "KfPeqI7rz4LD",
        "colab": {
          "base_uri": "https://localhost:8080/",
          "height": 35
        },
        "outputId": "816335be-fd2a-428f-98d6-05983b84d9b5"
      },
      "source": [
        "tf.keras.metrics.mean_absolute_error(x_valid, results).numpy()"
      ],
      "execution_count": null,
      "outputs": [
        {
          "output_type": "execute_result",
          "data": {
            "text/plain": [
              "8.514286"
            ]
          },
          "metadata": {
            "tags": []
          },
          "execution_count": 12
        }
      ]
    },
    {
      "cell_type": "code",
      "metadata": {
        "id": "JUsdZB_tzDLe",
        "colab": {
          "base_uri": "https://localhost:8080/",
          "height": 235
        },
        "outputId": "964c47d9-7eec-42cd-905f-c45c2fd31d9e"
      },
      "source": [
        "import matplotlib.image  as mpimg\n",
        "import matplotlib.pyplot as plt\n",
        "\n",
        "#-----------------------------------------------------------\n",
        "# Retrieve a list of list results on training and test data\n",
        "# sets for each training epoch\n",
        "#-----------------------------------------------------------\n",
        "mae=history.history['mae']\n",
        "loss=history.history['loss']\n",
        "\n",
        "epochs=range(len(loss)) # Get number of epochs\n",
        "\n",
        "#------------------------------------------------\n",
        "# Plot MAE and Loss\n",
        "#------------------------------------------------\n",
        "plt.plot(epochs, mae, 'r')\n",
        "plt.plot(epochs, loss, 'b')\n",
        "plt.title('MAE and Loss')\n",
        "plt.xlabel(\"Epochs\")\n",
        "plt.ylabel(\"Accuracy\")\n",
        "plt.legend([\"MAE\", \"Loss\"])\n",
        "\n",
        "plt.figure()\n",
        "\n",
        "epochs_zoom = epochs[200:]\n",
        "mae_zoom = mae[200:]\n",
        "loss_zoom = loss[200:]\n",
        "\n",
        "#------------------------------------------------\n",
        "# Plot Zoomed MAE and Loss\n",
        "#------------------------------------------------\n",
        "plt.plot(epochs_zoom, mae_zoom, 'r')\n",
        "plt.plot(epochs_zoom, loss_zoom, 'b')\n",
        "plt.title('MAE and Loss')\n",
        "plt.xlabel(\"Epochs\")\n",
        "plt.ylabel(\"Accuracy\")\n",
        "plt.legend([\"MAE\", \"Loss\"])\n",
        "\n",
        "plt.figure()"
      ],
      "execution_count": null,
      "outputs": [
        {
          "output_type": "error",
          "ename": "KeyError",
          "evalue": "ignored",
          "traceback": [
            "\u001b[0;31m---------------------------------------------------------------------------\u001b[0m",
            "\u001b[0;31mKeyError\u001b[0m                                  Traceback (most recent call last)",
            "\u001b[0;32m<ipython-input-13-0d8269471fd6>\u001b[0m in \u001b[0;36m<module>\u001b[0;34m()\u001b[0m\n\u001b[1;32m      6\u001b[0m \u001b[0;31m# sets for each training epoch\u001b[0m\u001b[0;34m\u001b[0m\u001b[0;34m\u001b[0m\u001b[0;34m\u001b[0m\u001b[0m\n\u001b[1;32m      7\u001b[0m \u001b[0;31m#-----------------------------------------------------------\u001b[0m\u001b[0;34m\u001b[0m\u001b[0;34m\u001b[0m\u001b[0;34m\u001b[0m\u001b[0m\n\u001b[0;32m----> 8\u001b[0;31m \u001b[0mmae\u001b[0m\u001b[0;34m=\u001b[0m\u001b[0mhistory\u001b[0m\u001b[0;34m.\u001b[0m\u001b[0mhistory\u001b[0m\u001b[0;34m[\u001b[0m\u001b[0;34m'mae'\u001b[0m\u001b[0;34m]\u001b[0m\u001b[0;34m\u001b[0m\u001b[0;34m\u001b[0m\u001b[0m\n\u001b[0m\u001b[1;32m      9\u001b[0m \u001b[0mloss\u001b[0m\u001b[0;34m=\u001b[0m\u001b[0mhistory\u001b[0m\u001b[0;34m.\u001b[0m\u001b[0mhistory\u001b[0m\u001b[0;34m[\u001b[0m\u001b[0;34m'loss'\u001b[0m\u001b[0;34m]\u001b[0m\u001b[0;34m\u001b[0m\u001b[0;34m\u001b[0m\u001b[0m\n\u001b[1;32m     10\u001b[0m \u001b[0;34m\u001b[0m\u001b[0m\n",
            "\u001b[0;31mKeyError\u001b[0m: 'mae'"
          ]
        }
      ]
    },
    {
      "cell_type": "code",
      "metadata": {
        "id": "3CGaYFxXNEAK"
      },
      "source": [
        "tf.keras.backend.clear_session()\n",
        "dataset = windowed_dataset(x_train, window_size, batch_size, shuffle_buffer_size)\n",
        "\n",
        "model = tf.keras.models.Sequential([\n",
        "  tf.keras.layers.Lambda(lambda x: tf.expand_dims(x, axis=-1),\n",
        "                      input_shape=[None]),\n",
        "  tf.keras.layers.Bidirectional(tf.keras.layers.LSTM(32, return_sequences=True)),\n",
        "  tf.keras.layers.Bidirectional(tf.keras.layers.LSTM(32)),\n",
        "  tf.keras.layers.Dense(1),\n",
        "  tf.keras.layers.Lambda(lambda x: x * 100.0)\n",
        "])\n",
        "\n",
        "\n",
        "model.compile(loss=\"mse\", optimizer=tf.keras.optimizers.SGD(lr=1e-6, momentum=0.9))\n",
        "model.fit(dataset,epochs=100, verbose=0)"
      ],
      "execution_count": null,
      "outputs": []
    },
    {
      "cell_type": "code",
      "metadata": {
        "id": "FJ3R8ysauz9e"
      },
      "source": [
        "tf.keras.backend.clear_session()\n",
        "dataset = windowed_dataset(x_train, window_size, batch_size, shuffle_buffer_size)\n",
        "\n",
        "model = tf.keras.models.Sequential([\n",
        "  tf.keras.layers.Lambda(lambda x: tf.expand_dims(x, axis=-1),\n",
        "                      input_shape=[None]),\n",
        "  tf.keras.layers.Bidirectional(tf.keras.layers.LSTM(32, return_sequences=True)),\n",
        "  tf.keras.layers.Bidirectional(tf.keras.layers.LSTM(32, return_sequences=True)),\n",
        "  tf.keras.layers.Bidirectional(tf.keras.layers.LSTM(32)),\n",
        "  tf.keras.layers.Dense(1),\n",
        "  tf.keras.layers.Lambda(lambda x: x * 100.0)\n",
        "])\n",
        "\n",
        "\n",
        "model.compile(loss=\"mse\", optimizer=tf.keras.optimizers.SGD(lr=1e-6, momentum=0.9))\n",
        "model.fit(dataset,epochs=100)"
      ],
      "execution_count": null,
      "outputs": []
    }
  ]
}